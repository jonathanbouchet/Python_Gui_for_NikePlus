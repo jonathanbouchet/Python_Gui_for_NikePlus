{
 "cells": [
  {
   "cell_type": "code",
   "execution_count": 2,
   "metadata": {
    "collapsed": true
   },
   "outputs": [],
   "source": [
    "import json\n",
    "import pandas as pd"
   ]
  },
  {
   "cell_type": "code",
   "execution_count": 18,
   "metadata": {
    "collapsed": true
   },
   "outputs": [],
   "source": [
    "# df= pd.read_json(\"NikePlus-Export-995a6cc0bd0e43d69672532cb51e160e/NikePlus-2016-02-21-9035000000007229978580022078167998425756-NoGPS.json\")\n",
    "# the above line (attempt to dump the json file into a DF does not work since it seems to not be a valid json file"
   ]
  },
  {
   "cell_type": "code",
   "execution_count": 4,
   "metadata": {
    "collapsed": true
   },
   "outputs": [],
   "source": [
    "# cannot read as a valid json file"
   ]
  },
  {
   "cell_type": "code",
   "execution_count": 5,
   "metadata": {
    "collapsed": true
   },
   "outputs": [],
   "source": [
    "with open('NikePlus-Export-995a6cc0bd0e43d69672532cb51e160e/NikePlus-2016-02-21-4316000000012023578610022078207087102898-NoGPS.json') as data_file: \n",
    "    data = json.load(data_file)"
   ]
  },
  {
   "cell_type": "code",
   "execution_count": 9,
   "metadata": {
    "collapsed": false
   },
   "outputs": [
    {
     "data": {
      "text/plain": [
       "[u'status',\n",
       " u'isGpsActivity',\n",
       " u'links',\n",
       " u'tags',\n",
       " u'metricSummary',\n",
       " u'activityType',\n",
       " u'metrics',\n",
       " u'activityId',\n",
       " u'timeSeries',\n",
       " u'deviceType',\n",
       " u'startTime',\n",
       " u'activityTimeZone']"
      ]
     },
     "execution_count": 9,
     "metadata": {},
     "output_type": "execute_result"
    }
   ],
   "source": [
    "#some infos about the resulting DF\n",
    "data.keys()"
   ]
  },
  {
   "cell_type": "code",
   "execution_count": 10,
   "metadata": {
    "collapsed": false
   },
   "outputs": [
    {
     "data": {
      "text/plain": [
       "dict"
      ]
     },
     "execution_count": 10,
     "metadata": {},
     "output_type": "execute_result"
    }
   ],
   "source": [
    "type(data)"
   ]
  },
  {
   "cell_type": "code",
   "execution_count": 12,
   "metadata": {
    "collapsed": false
   },
   "outputs": [
    {
     "data": {
      "text/plain": [
       "[u'duration', u'distance', u'calories', u'steps', u'fuel']"
      ]
     },
     "execution_count": 12,
     "metadata": {},
     "output_type": "execute_result"
    }
   ],
   "source": [
    "# we are interested in the metricSummary\n",
    "data['metricSummary'].keys()"
   ]
  },
  {
   "cell_type": "code",
   "execution_count": 13,
   "metadata": {
    "collapsed": false
   },
   "outputs": [
    {
     "data": {
      "text/plain": [
       "[u'duration', u'distance', u'calories', u'steps', u'fuel']"
      ]
     },
     "execution_count": 13,
     "metadata": {},
     "output_type": "execute_result"
    }
   ],
   "source": [
    "data['metricSummary'].keys()"
   ]
  },
  {
   "cell_type": "code",
   "execution_count": 15,
   "metadata": {
    "collapsed": false
   },
   "outputs": [
    {
     "data": {
      "text/plain": [
       "u'2016-02-21T11:35:29Z'"
      ]
     },
     "execution_count": 15,
     "metadata": {},
     "output_type": "execute_result"
    }
   ],
   "source": [
    "# another key also gives the datetime of the run analyzed\n",
    "data['startTime']"
   ]
  },
  {
   "cell_type": "code",
   "execution_count": 17,
   "metadata": {
    "collapsed": false
   },
   "outputs": [
    {
     "data": {
      "text/plain": [
       "u'2016-02-21'"
      ]
     },
     "execution_count": 17,
     "metadata": {},
     "output_type": "execute_result"
    }
   ],
   "source": [
    "data['startTime'][:10]"
   ]
  },
  {
   "cell_type": "markdown",
   "metadata": {},
   "source": [
    "## dirty solution\n",
    "<ul>\n",
    "<li>read the json file as a serie\n",
    "<li>create a DF from this serie\n",
    "<li>transpose row <--> col\n",
    "</ul>"
   ]
  },
  {
   "cell_type": "code",
   "execution_count": 19,
   "metadata": {
    "collapsed": true
   },
   "outputs": [],
   "source": [
    "# test = pd.read_json('myJsonFile.json',typ='series')\n",
    "# P = pd.DataFrame.from_dict(test['metricSummary'],orient='index').transpose()"
   ]
  },
  {
   "cell_type": "code",
   "execution_count": 20,
   "metadata": {
    "collapsed": true
   },
   "outputs": [],
   "source": [
    "test = pd.read_json('NikePlus-Export-995a6cc0bd0e43d69672532cb51e160e/NikePlus-2016-02-21-4316000000012023578610022078207087102898-NoGPS.json',typ='series')"
   ]
  },
  {
   "cell_type": "code",
   "execution_count": 28,
   "metadata": {
    "collapsed": true
   },
   "outputs": [],
   "source": [
    "P = pd.DataFrame.from_dict(test['metricSummary'],orient='index').transpose()"
   ]
  },
  {
   "cell_type": "code",
   "execution_count": 29,
   "metadata": {
    "collapsed": false
   },
   "outputs": [
    {
     "data": {
      "text/html": [
       "<div>\n",
       "<table border=\"1\" class=\"dataframe\">\n",
       "  <thead>\n",
       "    <tr style=\"text-align: right;\">\n",
       "      <th></th>\n",
       "      <th>duration</th>\n",
       "      <th>distance</th>\n",
       "      <th>calories</th>\n",
       "      <th>steps</th>\n",
       "      <th>fuel</th>\n",
       "    </tr>\n",
       "  </thead>\n",
       "  <tbody>\n",
       "    <tr>\n",
       "      <th>0</th>\n",
       "      <td>0:40:13.000</td>\n",
       "      <td>6.6075</td>\n",
       "      <td>372</td>\n",
       "      <td>7708</td>\n",
       "      <td>1738</td>\n",
       "    </tr>\n",
       "  </tbody>\n",
       "</table>\n",
       "</div>"
      ],
      "text/plain": [
       "      duration distance calories steps  fuel\n",
       "0  0:40:13.000   6.6075      372  7708  1738"
      ]
     },
     "execution_count": 29,
     "metadata": {},
     "output_type": "execute_result"
    }
   ],
   "source": [
    "P"
   ]
  },
  {
   "cell_type": "code",
   "execution_count": 23,
   "metadata": {
    "collapsed": true
   },
   "outputs": [],
   "source": [
    "col = ['calories', 'distance','duration','fuel','steps']"
   ]
  },
  {
   "cell_type": "code",
   "execution_count": 34,
   "metadata": {
    "collapsed": true
   },
   "outputs": [],
   "source": [
    "index = range(0)"
   ]
  },
  {
   "cell_type": "code",
   "execution_count": 35,
   "metadata": {
    "collapsed": true
   },
   "outputs": [],
   "source": [
    "df = pd.DataFrame(index=index, columns=col)"
   ]
  },
  {
   "cell_type": "code",
   "execution_count": 36,
   "metadata": {
    "collapsed": false
   },
   "outputs": [
    {
     "data": {
      "text/html": [
       "<div>\n",
       "<table border=\"1\" class=\"dataframe\">\n",
       "  <thead>\n",
       "    <tr style=\"text-align: right;\">\n",
       "      <th></th>\n",
       "      <th>calories</th>\n",
       "      <th>distance</th>\n",
       "      <th>duration</th>\n",
       "      <th>fuel</th>\n",
       "      <th>steps</th>\n",
       "    </tr>\n",
       "  </thead>\n",
       "  <tbody>\n",
       "  </tbody>\n",
       "</table>\n",
       "</div>"
      ],
      "text/plain": [
       "Empty DataFrame\n",
       "Columns: [calories, distance, duration, fuel, steps]\n",
       "Index: []"
      ]
     },
     "execution_count": 36,
     "metadata": {},
     "output_type": "execute_result"
    }
   ],
   "source": [
    "df"
   ]
  },
  {
   "cell_type": "code",
   "execution_count": 37,
   "metadata": {
    "collapsed": false
   },
   "outputs": [
    {
     "data": {
      "text/html": [
       "<div>\n",
       "<table border=\"1\" class=\"dataframe\">\n",
       "  <thead>\n",
       "    <tr style=\"text-align: right;\">\n",
       "      <th></th>\n",
       "      <th>calories</th>\n",
       "      <th>distance</th>\n",
       "      <th>duration</th>\n",
       "      <th>fuel</th>\n",
       "      <th>steps</th>\n",
       "    </tr>\n",
       "  </thead>\n",
       "  <tbody>\n",
       "    <tr>\n",
       "      <th>0</th>\n",
       "      <td>372</td>\n",
       "      <td>6.6075</td>\n",
       "      <td>0:40:13.000</td>\n",
       "      <td>1738</td>\n",
       "      <td>7708</td>\n",
       "    </tr>\n",
       "  </tbody>\n",
       "</table>\n",
       "</div>"
      ],
      "text/plain": [
       "   calories  distance     duration  fuel  steps\n",
       "0       372    6.6075  0:40:13.000  1738   7708"
      ]
     },
     "execution_count": 37,
     "metadata": {},
     "output_type": "execute_result"
    }
   ],
   "source": [
    "df.append(data['metricSummary'],ignore_index=True)"
   ]
  },
  {
   "cell_type": "code",
   "execution_count": 98,
   "metadata": {
    "collapsed": false
   },
   "outputs": [
    {
     "name": "stdout",
     "output_type": "stream",
     "text": [
      "NikePlus-Export-995a6cc0bd0e43d69672532cb51e160e/NikePlus-2016-02-21-3366000000017550450550022078233369828939.json\n",
      "\n",
      "NikePlus-Export-995a6cc0bd0e43d69672532cb51e160e/NikePlus-2016-02-21-4316000000012023578610022078207087102898-NoGPS.json\n",
      "\n",
      "NikePlus-Export-995a6cc0bd0e43d69672532cb51e160e/NikePlus-2016-02-21-9035000000007229978580022078167998425756-NoGPS.json\n",
      "\n",
      "NikePlus-Export-995a6cc0bd0e43d69672532cb51e160e/NikePlus-2016-02-22-4316000000000774467960022078207087175749-NoGPS.json\n",
      "\n",
      "NikePlus-Export-995a6cc0bd0e43d69672532cb51e160e/NikePlus-2016-02-23-3947000000003790108190022078197207251106-NoGPS.json\n",
      "\n"
     ]
    }
   ],
   "source": [
    "file = open('test.txt','r')\n",
    "for line in file:\n",
    "    print line"
   ]
  },
  {
   "cell_type": "code",
   "execution_count": 57,
   "metadata": {
    "collapsed": true
   },
   "outputs": [],
   "source": [
    "df2 = pd.DataFrame(index=index, columns=col)"
   ]
  },
  {
   "cell_type": "code",
   "execution_count": 58,
   "metadata": {
    "collapsed": false
   },
   "outputs": [
    {
     "data": {
      "text/html": [
       "<div>\n",
       "<table border=\"1\" class=\"dataframe\">\n",
       "  <thead>\n",
       "    <tr style=\"text-align: right;\">\n",
       "      <th></th>\n",
       "      <th>calories</th>\n",
       "      <th>distance</th>\n",
       "      <th>duration</th>\n",
       "      <th>fuel</th>\n",
       "      <th>steps</th>\n",
       "    </tr>\n",
       "  </thead>\n",
       "  <tbody>\n",
       "  </tbody>\n",
       "</table>\n",
       "</div>"
      ],
      "text/plain": [
       "Empty DataFrame\n",
       "Columns: [calories, distance, duration, fuel, steps]\n",
       "Index: []"
      ]
     },
     "execution_count": 58,
     "metadata": {},
     "output_type": "execute_result"
    }
   ],
   "source": [
    "df2"
   ]
  },
  {
   "cell_type": "code",
   "execution_count": 69,
   "metadata": {
    "collapsed": false
   },
   "outputs": [
    {
     "name": "stdout",
     "output_type": "stream",
     "text": [
      "NikePlus-Export-995a6cc0bd0e43d69672532cb51e160e/NikePlus-2016-02-21-3366000000017550450550022078233369828939.json\n",
      "{u'duration': u'0:02:31.000', u'distance': 0.49239999055862427, u'calories': 27, u'steps': 12, u'fuel': 127}\n",
      "NikePlus-Export-995a6cc0bd0e43d69672532cb51e160e/NikePlus-2016-02-21-4316000000012023578610022078207087102898-NoGPS.json\n",
      "{u'duration': u'0:40:13.000', u'distance': 6.607500076293945, u'calories': 372, u'steps': 7708, u'fuel': 1738}\n",
      "NikePlus-Export-995a6cc0bd0e43d69672532cb51e160e/NikePlus-2016-02-21-9035000000007229978580022078167998425756-NoGPS.json\n",
      "{u'duration': u'1:01:50.000', u'distance': 9.769200325012207, u'calories': 550, u'steps': 16436118, u'fuel': 2541}\n",
      "NikePlus-Export-995a6cc0bd0e43d69672532cb51e160e/NikePlus-2016-02-22-4316000000000774467960022078207087175749-NoGPS.json\n",
      "{u'duration': u'1:10:37.000', u'distance': 11.429400444030762, u'calories': 644, u'steps': 13358, u'fuel': 2994}\n",
      "NikePlus-Export-995a6cc0bd0e43d69672532cb51e160e/NikePlus-2016-02-23-3947000000003790108190022078197207251106-NoGPS.json\n",
      "{u'duration': u'1:10:08.000', u'distance': 11.450699806213379, u'calories': 645, u'steps': 5216818, u'fuel': 2994}\n"
     ]
    }
   ],
   "source": [
    "import glob\n",
    "counter=0\n",
    "for filename in glob.glob('NikePlus-Export-995a6cc0bd0e43d69672532cb51e160e/*.json'):\n",
    "    print filename\n",
    "    with open(filename) as data_file:    \n",
    "        data = json.load(data_file)\n",
    "        print data['metricSummary']\n",
    "        df2.loc[counter] = data['metricSummary']\n",
    "        counter=counter+1\n",
    "        #df2.append(data['metricSummary'],ignore_index=True)"
   ]
  },
  {
   "cell_type": "code",
   "execution_count": 70,
   "metadata": {
    "collapsed": false
   },
   "outputs": [
    {
     "data": {
      "text/html": [
       "<div>\n",
       "<table border=\"1\" class=\"dataframe\">\n",
       "  <thead>\n",
       "    <tr style=\"text-align: right;\">\n",
       "      <th></th>\n",
       "      <th>calories</th>\n",
       "      <th>distance</th>\n",
       "      <th>duration</th>\n",
       "      <th>fuel</th>\n",
       "      <th>steps</th>\n",
       "    </tr>\n",
       "  </thead>\n",
       "  <tbody>\n",
       "    <tr>\n",
       "      <th>0</th>\n",
       "      <td>27</td>\n",
       "      <td>0.4924</td>\n",
       "      <td>0:02:31.000</td>\n",
       "      <td>127</td>\n",
       "      <td>12</td>\n",
       "    </tr>\n",
       "    <tr>\n",
       "      <th>1</th>\n",
       "      <td>372</td>\n",
       "      <td>6.6075</td>\n",
       "      <td>0:40:13.000</td>\n",
       "      <td>1738</td>\n",
       "      <td>7708</td>\n",
       "    </tr>\n",
       "    <tr>\n",
       "      <th>2</th>\n",
       "      <td>550</td>\n",
       "      <td>9.7692</td>\n",
       "      <td>1:01:50.000</td>\n",
       "      <td>2541</td>\n",
       "      <td>16436118</td>\n",
       "    </tr>\n",
       "    <tr>\n",
       "      <th>3</th>\n",
       "      <td>644</td>\n",
       "      <td>11.4294</td>\n",
       "      <td>1:10:37.000</td>\n",
       "      <td>2994</td>\n",
       "      <td>13358</td>\n",
       "    </tr>\n",
       "    <tr>\n",
       "      <th>4</th>\n",
       "      <td>645</td>\n",
       "      <td>11.4507</td>\n",
       "      <td>1:10:08.000</td>\n",
       "      <td>2994</td>\n",
       "      <td>5216818</td>\n",
       "    </tr>\n",
       "  </tbody>\n",
       "</table>\n",
       "</div>"
      ],
      "text/plain": [
       "  calories distance     duration  fuel     steps\n",
       "0       27   0.4924  0:02:31.000   127        12\n",
       "1      372   6.6075  0:40:13.000  1738      7708\n",
       "2      550   9.7692  1:01:50.000  2541  16436118\n",
       "3      644  11.4294  1:10:37.000  2994     13358\n",
       "4      645  11.4507  1:10:08.000  2994   5216818"
      ]
     },
     "execution_count": 70,
     "metadata": {},
     "output_type": "execute_result"
    }
   ],
   "source": [
    "df2"
   ]
  },
  {
   "cell_type": "code",
   "execution_count": 82,
   "metadata": {
    "collapsed": false
   },
   "outputs": [
    {
     "name": "stderr",
     "output_type": "stream",
     "text": [
      "//anaconda/lib/python2.7/site-packages/matplotlib/__init__.py:872: UserWarning: axes.color_cycle is deprecated and replaced with axes.prop_cycle; please use the latter.\n",
      "  warnings.warn(self.msg_depr % (key, alt_key))\n"
     ]
    }
   ],
   "source": [
    "import matplotlib.pyplot as plt\n",
    "import seaborn as sns\n",
    "%matplotlib inline"
   ]
  },
  {
   "cell_type": "code",
   "execution_count": 89,
   "metadata": {
    "collapsed": true
   },
   "outputs": [],
   "source": [
    "from IPython.display import display\n",
    "import ipywidgets as widgets\n",
    "from ipywidgets import interact, interactive\n",
    "from pandas import Series, DataFrame"
   ]
  },
  {
   "cell_type": "code",
   "execution_count": 100,
   "metadata": {
    "collapsed": false
   },
   "outputs": [],
   "source": [
    "#df2['calories'].hist()"
   ]
  },
  {
   "cell_type": "code",
   "execution_count": 104,
   "metadata": {
    "collapsed": true
   },
   "outputs": [],
   "source": [
    "def show(field):\n",
    "    df2[field].hist(bins=50)"
   ]
  },
  {
   "cell_type": "code",
   "execution_count": 105,
   "metadata": {
    "collapsed": false
   },
   "outputs": [],
   "source": [
    "#show('calories')"
   ]
  },
  {
   "cell_type": "code",
   "execution_count": 106,
   "metadata": {
    "collapsed": true
   },
   "outputs": [],
   "source": [
    "w = interactive(show, field=widgets.Select(\n",
    "    description='Categories:',\n",
    "    options=['calories','distance','duration','fuel','steps'],\n",
    "))"
   ]
  },
  {
   "cell_type": "code",
   "execution_count": 107,
   "metadata": {
    "collapsed": false
   },
   "outputs": [
    {
     "data": {
      "image/png": "[encoded data removed]",
      "text/plain": [
       "<matplotlib.figure.Figure at 0x114665b90>"
      ]
     },
     "metadata": {},
     "output_type": "display_data"
    }
   ],
   "source": [
    "display(w)"
   ]
  },
  {
   "cell_type": "code",
   "execution_count": null,
   "metadata": {
    "collapsed": true
   },
   "outputs": [],
   "source": []
  }
 ],
 "metadata": {
  "kernelspec": {
   "display_name": "Python 2",
   "language": "python",
   "name": "python2"
  },
  "language_info": {
   "codemirror_mode": {
    "name": "ipython",
    "version": 2
   },
   "file_extension": ".py",
   "mimetype": "text/x-python",
   "name": "python",
   "nbconvert_exporter": "python",
   "pygments_lexer": "ipython2",
   "version": "2.7.11"
  }
 },
 "nbformat": 4,
 "nbformat_minor": 0
}
